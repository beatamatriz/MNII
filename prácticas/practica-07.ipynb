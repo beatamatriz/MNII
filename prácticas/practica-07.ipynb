{
 "cells": [
  {
   "cell_type": "markdown",
   "metadata": {},
   "source": [
    "<div align=\"center\"><span style=\"font-family: Arial; color:#0000FF\"><b>\n",
    "    <span style=\"font-size: x-large\">Métodos Numéricos II</span>\n",
    "    <br>\n",
    "    <span style=\"font-size: large\">Segundo de Grado en Matemáticas - Curso 2022/23</span>\n",
    "    <br>\n",
    "    <span style=\"font-size: medium\">Facultad de Ciencias de la Universidad de Málaga</span>\n",
    "    <br>\n",
    "    <span style=\"font-size: small\">Dpto. de Análisis Matemático, Estadística e Investigación Operativa, y Matemática Aplicada</span>\n",
    "    <br>\n",
    "    <span style=\"font-size: small\">Profs. Manuel J. Castro y Francisco J. Palma (Área Conocimiento de Matemática Aplicada)</span>\n",
    "    <br>\n",
    "    <span style=\"font-size: medium; color:#FF0000\">Práctica número 7</span>\n",
    "    </b></span></div>"
   ]
  },
  {
   "cell_type": "code",
   "execution_count": null,
   "metadata": {},
   "outputs": [],
   "source": [
    "from algoritmos import *"
   ]
  },
  {
   "cell_type": "markdown",
   "metadata": {},
   "source": [
    "<div align=\"left\"><span style=\"font-family: Arial; color:#000000; font-size: medium\">\n",
    "    <span style=\"color:#FF0000\"><b>Ejercicio 1.</b></span> Dado el vector $X = \\left( \\begin{array}{c} 1 \\\\ 2 \\\\ 3 \\\\ 4 \\end{array} \\right) \\in \\mathbb{R}^4$, calcular la matriz de Householder $H(X) \\in \\mathcal{M}_4(\\mathbb{R})$.\n",
    "    </span></div>"
   ]
  },
  {
   "cell_type": "code",
   "execution_count": null,
   "metadata": {},
   "outputs": [],
   "source": [
    "# Ejercicio 1.\n",
    "..."
   ]
  },
  {
   "cell_type": "code",
   "execution_count": null,
   "metadata": {},
   "outputs": [],
   "source": []
  },
  {
   "cell_type": "code",
   "execution_count": null,
   "metadata": {},
   "outputs": [],
   "source": []
  },
  {
   "cell_type": "markdown",
   "metadata": {},
   "source": [
    "<div align=\"left\"><span style=\"font-family: Arial; color:#000000; font-size: medium\">\n",
    "    <span style=\"color:#FF0000\"><b>Ejercicio 2.</b></span> Dado el vector $X = \\left( \\begin{array}{c} 1 \\\\ 2 \\\\ 3 \\\\ 4 \\end{array} \\right) \\in \\mathbb{R}^4$, calcular las matrices de Householder $H(Z_i) \\in \\mathcal{M}_4(\\mathbb{R})$, $i=1,2$, tales que el vector $H(Z_i)\\,X$ tiene nulas todas sus componentes excepto, quizás, la primera.\n",
    "    </span></div>"
   ]
  },
  {
   "cell_type": "code",
   "execution_count": null,
   "metadata": {},
   "outputs": [],
   "source": [
    "# Ejercicio 2.\n",
    "..."
   ]
  },
  {
   "cell_type": "code",
   "execution_count": null,
   "metadata": {},
   "outputs": [],
   "source": []
  },
  {
   "cell_type": "code",
   "execution_count": null,
   "metadata": {},
   "outputs": [],
   "source": []
  },
  {
   "cell_type": "markdown",
   "metadata": {},
   "source": [
    "<div align=\"left\"><span style=\"font-family: Arial; color:#000000; font-size: medium\">\n",
    "    <span style=\"color:#FF0000\"><b>Ejercicio 3.</b></span> Considera el sistema lineal $A\\,X=B$, así como el sistema perturbado $A\\,\\bar{X}=\\bar{B}$, donde\n",
    "\\[\n",
    "A = \\left( \\begin{array}{rrrr} 10 & 1 & 4 & 0 \\\\ 1 & 10 & 5 & -1 \\\\ 4 & 5 & 10 & 7 \\\\ 0 & -1 & 7 & 9 \\end{array} \\right)\\,, \\quad B = \\left( \\begin{array}{r} 15 \\\\ 15 \\\\ 26 \\\\ 15 \\end{array} \\right) \\quad \\mbox{y} \\quad \\bar{B} = \\left( \\begin{array}{r} 16 \\\\ 16 \\\\ 25 \\\\ 16 \\end{array} \\right)\\,.\n",
    "\\]\n",
    "    Calcular $X$ y $\\bar{X}$ (mediante el método de Gauss con estrategia de pívot parcial) y verificar la desigualdad\n",
    "\\[\n",
    "\\frac{\\|\\delta X\\|_2}{\\|X\\|_2} \\le \\rm{cond}_2(A)\\,\\frac{\\|\\delta B\\|_2}{\\|B\\|_2}\\,.\n",
    "\\]\n",
    "    </span></div>"
   ]
  },
  {
   "cell_type": "code",
   "execution_count": null,
   "metadata": {},
   "outputs": [],
   "source": [
    "# Ejercicio 3.\n",
    "..."
   ]
  },
  {
   "cell_type": "code",
   "execution_count": null,
   "metadata": {},
   "outputs": [],
   "source": []
  },
  {
   "cell_type": "code",
   "execution_count": null,
   "metadata": {},
   "outputs": [],
   "source": []
  },
  {
   "cell_type": "markdown",
   "metadata": {},
   "source": [
    "<div align=\"left\"><span style=\"font-family: Arial; color:#000000; font-size: medium\">\n",
    "    <span style=\"color:#FF0000\"><b>Ejercicio 4.</b></span> Calcular $\\rm{cond}_p(A_2)$, $p=1,2,\\infty$, donde $A_2$ es la matriz triangular superior resultante de aplicar el método de Gauss al sistema\n",
    "\\[\n",
    "\\left\\{ \\begin{array}{rcrcr} 10^{-4}\\,x_1 & + & x_2 & = & 1\\,, \\\\ x_1 & + & x_2 & = & 2\\,. \\end{array} \\right.\n",
    "\\]\n",
    "    Comparar los resultados cuando no se utiliza ninguna estrategia de pivot y cuando se utiliza una estrategia de pivot parcial.\n",
    "    <br>\n",
    "    Cambiar el elemento $(1,1)$ de la matriz de coeficientes por $10^{-16}$ y analizar el resultado.\n",
    "    </span></div>"
   ]
  },
  {
   "cell_type": "code",
   "execution_count": null,
   "metadata": {},
   "outputs": [],
   "source": [
    "# Ejercicio 4.\n",
    "..."
   ]
  },
  {
   "cell_type": "code",
   "execution_count": null,
   "metadata": {},
   "outputs": [],
   "source": []
  },
  {
   "cell_type": "code",
   "execution_count": null,
   "metadata": {},
   "outputs": [],
   "source": []
  },
  {
   "cell_type": "markdown",
   "metadata": {},
   "source": [
    "<div align=\"left\"><span style=\"font-family: Arial; color:#000000; font-size: medium\">\n",
    "    <span style=\"color:#FF0000\"><b>Ejercicio 4.</b></span> Analizar si la matriz\n",
    "\\[\n",
    "A = \\left( \\begin{array}{cccc} 1 & 2 & 1 & 1 \\\\ 2 & 3 & 4 & 3 \\\\ 1 & 4 & -4 & 0 \\\\ 1 & 3 & 0 & 0 \\end{array} \\right)\n",
    "\\]\n",
    "    es definida positiva.\n",
    "    </span></div>"
   ]
  },
  {
   "cell_type": "code",
   "execution_count": null,
   "metadata": {},
   "outputs": [],
   "source": [
    "# Ejercicio 5.\n",
    "..."
   ]
  },
  {
   "cell_type": "code",
   "execution_count": null,
   "metadata": {},
   "outputs": [],
   "source": []
  },
  {
   "cell_type": "code",
   "execution_count": null,
   "metadata": {},
   "outputs": [],
   "source": []
  }
 ],
 "metadata": {
  "kernelspec": {
   "display_name": "Python 3 (ipykernel)",
   "language": "python",
   "name": "python3"
  },
  "language_info": {
   "codemirror_mode": {
    "name": "ipython",
    "version": 3
   },
   "file_extension": ".py",
   "mimetype": "text/x-python",
   "name": "python",
   "nbconvert_exporter": "python",
   "pygments_lexer": "ipython3",
   "version": "3.9.16"
  }
 },
 "nbformat": 4,
 "nbformat_minor": 4
}
