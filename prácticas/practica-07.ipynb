{
 "cells": [
  {
   "cell_type": "markdown",
   "metadata": {},
   "source": [
    "<div align=\"center\"><span style=\"font-family: Arial; color:#0000FF\"><b>\n",
    "    <span style=\"font-size: x-large\">Métodos Numéricos II</span>\n",
    "    <br>\n",
    "    <span style=\"font-size: large\">Segundo de Grado en Matemáticas - Curso 2022/23</span>\n",
    "    <br>\n",
    "    <span style=\"font-size: medium\">Facultad de Ciencias de la Universidad de Málaga</span>\n",
    "    <br>\n",
    "    <span style=\"font-size: small\">Dpto. de Análisis Matemático, Estadística e Investigación Operativa, y Matemática Aplicada</span>\n",
    "    <br>\n",
    "    <span style=\"font-size: small\">Profs. Manuel J. Castro y Francisco J. Palma (Área Conocimiento de Matemática Aplicada)</span>\n",
    "    <br>\n",
    "    <span style=\"font-size: medium; color:#FF0000\">Práctica número 7</span>\n",
    "    </b></span></div>"
   ]
  },
  {
   "cell_type": "code",
   "execution_count": 1,
   "metadata": {},
   "outputs": [],
   "source": [
    "from algorithms import *"
   ]
  },
  {
   "cell_type": "markdown",
   "metadata": {},
   "source": [
    "<div align=\"left\"><span style=\"font-family: Arial; color:#000000; font-size: medium\">\n",
    "    <span style=\"color:#FF0000\"><b>Ejercicio 1.</b></span> Dado el vector $X = \\left( \\begin{array}{c} 1 \\\\ 2 \\\\ 3 \\\\ 4 \\end{array} \\right) \\in \\mathbb{R}^4$, calcular la matriz de Householder $H(X) \\in \\mathcal{M}_4(\\mathbb{R})$.\n",
    "    </span></div>"
   ]
  },
  {
   "cell_type": "code",
   "execution_count": 1,
   "metadata": {},
   "outputs": [],
   "source": [
    "# Ejercicio 1.\n",
    "def householder(Z):\n",
    "    dim = Z.shape\n",
    "    if len(dim) == 1:\n",
    "        Z=conjugada(Z)\n",
    "    m,n = Z.shape\n",
    "    I = eye(m)\n",
    "    H = I - 2*Z@conjugada(Z)/(conjugada(Z)@Z)\n",
    "    return H"
   ]
  },
  {
   "cell_type": "code",
   "execution_count": 3,
   "metadata": {},
   "outputs": [
    {
     "name": "stdout",
     "output_type": "stream",
     "text": [
      "[[ 0.93548387+0.j         -0.12903226+0.06451613j -0.19354839+0.j\n",
      "  -0.25806452+0.j        ]\n",
      " [-0.12903226-0.06451613j  0.67741935+0.j         -0.38709677-0.19354839j\n",
      "  -0.51612903-0.25806452j]\n",
      " [-0.19354839+0.j         -0.38709677+0.19354839j  0.41935484+0.j\n",
      "  -0.77419355+0.j        ]\n",
      " [-0.25806452+0.j         -0.51612903+0.25806452j -0.77419355+0.j\n",
      "  -0.03225806+0.j        ]]\n"
     ]
    }
   ],
   "source": [
    "X = array([[1],[2+1j],[3],[4]], dtype=complex)\n",
    "\n",
    "print(householder(X))"
   ]
  },
  {
   "cell_type": "code",
   "execution_count": null,
   "metadata": {},
   "outputs": [],
   "source": []
  },
  {
   "cell_type": "markdown",
   "metadata": {},
   "source": [
    "<div align=\"left\"><span style=\"font-family: Arial; color:#000000; font-size: medium\">\n",
    "    <span style=\"color:#FF0000\"><b>Ejercicio 2.</b></span> Dado el vector $X = \\left( \\begin{array}{c} 1 \\\\ 2 \\\\ 3 \\\\ 4 \\end{array} \\right) \\in \\mathbb{R}^4$, calcular las matrices de Householder $H(Z_i) \\in \\mathcal{M}_4(\\mathbb{R})$, $i=1,2$, tales que el vector $H(Z_i)\\,X$ tiene nulas todas sus componentes excepto, quizás, la primera.\n",
    "    </span></div>"
   ]
  },
  {
   "cell_type": "code",
   "execution_count": 4,
   "metadata": {},
   "outputs": [],
   "source": [
    "# Ejercicio 2.\n",
    "def zetaholder(X):\n",
    "    dim = X.shape\n",
    "    if len(dim) == 1:\n",
    "        X=conjugada(X)\n",
    "    m,n = X.shape\n",
    "    E = zeros((m,n))\n",
    "    E[0][0]+=1\n",
    "    Z = X + norm(X)*pow(math.e,angle(X[0][0]))*E\n",
    "    H = householder(Z)\n",
    "    return H, householder(H@X + X)"
   ]
  },
  {
   "cell_type": "code",
   "execution_count": 5,
   "metadata": {},
   "outputs": [
    {
     "name": "stdout",
     "output_type": "stream",
     "text": [
      "[[-5.56776436e+00+0.00000000e+00j]\n",
      " [-1.11022302e-16-5.55111512e-17j]\n",
      " [ 0.00000000e+00+0.00000000e+00j]\n",
      " [ 0.00000000e+00+0.00000000e+00j]]\n",
      "[[5.56776436e+00+0.00000000e+00j]\n",
      " [3.33066907e-16+1.66533454e-16j]\n",
      " [8.88178420e-16+0.00000000e+00j]\n",
      " [7.77156117e-16+0.00000000e+00j]]\n"
     ]
    }
   ],
   "source": [
    "H1, H2 = zetaholder(X)\n",
    "print(H1@X)\n",
    "print(H2@X)"
   ]
  },
  {
   "cell_type": "code",
   "execution_count": 55,
   "metadata": {},
   "outputs": [
    {
     "data": {
      "text/plain": [
       "4.0"
      ]
     },
     "execution_count": 55,
     "metadata": {},
     "output_type": "execute_result"
    }
   ],
   "source": []
  },
  {
   "cell_type": "markdown",
   "metadata": {},
   "source": [
    "<div align=\"left\"><span style=\"font-family: Arial; color:#000000; font-size: medium\">\n",
    "    <span style=\"color:#FF0000\"><b>Ejercicio 3.</b></span> Considera el sistema lineal $A\\,X=B$, así como el sistema perturbado $A\\,\\bar{X}=\\bar{B}$, donde\n",
    "\\[\n",
    "A = \\left( \\begin{array}{rrrr} 10 & 1 & 4 & 0 \\\\ 1 & 10 & 5 & -1 \\\\ 4 & 5 & 10 & 7 \\\\ 0 & -1 & 7 & 9 \\end{array} \\right)\\,, \\quad B = \\left( \\begin{array}{r} 15 \\\\ 15 \\\\ 26 \\\\ 15 \\end{array} \\right) \\quad \\mbox{y} \\quad \\bar{B} = \\left( \\begin{array}{r} 16 \\\\ 16 \\\\ 25 \\\\ 16 \\end{array} \\right)\\,.\n",
    "\\]\n",
    "    Calcular $X$ y $\\bar{X}$ (mediante el método de Gauss con estrategia de pívot parcial) y verificar la desigualdad\n",
    "\\[\n",
    "\\frac{\\|\\delta X\\|_2}{\\|X\\|_2} \\le \\rm{cond}_2(A)\\,\\frac{\\|\\delta B\\|_2}{\\|B\\|_2}\\,.\n",
    "\\]\n",
    "    </span></div>"
   ]
  },
  {
   "cell_type": "code",
   "execution_count": 6,
   "metadata": {},
   "outputs": [],
   "source": [
    "# Ejercicio 3.\n",
    "\n",
    "A = array([[10,1,4,0],[1,10,5,-1],[4,5,10,7],[0,-1,7,9]])\n",
    "B = array([[15],[15],[26],[15]])\n",
    "B_ = array([[16],[16],[25],[16]])"
   ]
  },
  {
   "cell_type": "code",
   "execution_count": 7,
   "metadata": {},
   "outputs": [],
   "source": [
    "_,X = gauss_pp(A,B)\n",
    "_,X_ = gauss_pp(A,B_)\n"
   ]
  },
  {
   "cell_type": "code",
   "execution_count": 8,
   "metadata": {},
   "outputs": [
    {
     "name": "stdout",
     "output_type": "stream",
     "text": [
      "1754.9753559509859\n",
      "1947.5701637224095\n",
      "True\n"
     ]
    }
   ],
   "source": [
    "cosa = norm(X-X_,2)/norm(X,2)\n",
    "cosita = cond(A,2)*norm(B-B_,2)/norm(B,2)\n",
    "print(cosa)\n",
    "print(cosita)\n",
    "print(cosa<= cosita)"
   ]
  },
  {
   "cell_type": "markdown",
   "metadata": {},
   "source": [
    "<div align=\"left\"><span style=\"font-family: Arial; color:#000000; font-size: medium\">\n",
    "    <span style=\"color:#FF0000\"><b>Ejercicio 4.</b></span> Calcular $\\rm{cond}_p(A_2)$, $p=1,2,\\infty$, donde $A_2$ es la matriz triangular superior resultante de aplicar el método de Gauss al sistema\n",
    "\\[\n",
    "\\left\\{ \\begin{array}{rcrcr} 10^{-4}\\,x_1 & + & x_2 & = & 1\\,, \\\\ x_1 & + & x_2 & = & 2\\,. \\end{array} \\right.\n",
    "\\]\n",
    "    Comparar los resultados cuando no se utiliza ninguna estrategia de pivot y cuando se utiliza una estrategia de pivot parcial.\n",
    "    <br>\n",
    "    Cambiar el elemento $(1,1)$ de la matriz de coeficientes por $10^{-16}$ y analizar el resultado.\n",
    "    </span></div>"
   ]
  },
  {
   "cell_type": "code",
   "execution_count": 22,
   "metadata": {},
   "outputs": [
    {
     "name": "stdout",
     "output_type": "stream",
     "text": [
      "[[1.     1.    ]\n",
      " [0.     0.9999]]\n",
      "[[ 1.000e-04  1.000e+00]\n",
      " [ 0.000e+00 -9.999e+03]]\n",
      "4.000200020002 2.618151093313238 4.000200020002\n",
      "100000000.0 99990001.0001 99999999.99999999\n"
     ]
    }
   ],
   "source": [
    "# Ejercicio 4.\n",
    "A = array([[1e-4, 1.], [1., 1.]])\n",
    "B = [[1],[2]]\n",
    "_,triA = gauss_pp(A, getTriu=True)\n",
    "_,LU = facto_lu(A)\n",
    "U = triu(LU)\n",
    "print(triA)\n",
    "print(U)\n",
    "print(cond(triA),cond(triA,2),cond(triA,inf))\n",
    "print(cond(U),cond(U,2),cond(U,inf))"
   ]
  },
  {
   "cell_type": "code",
   "execution_count": null,
   "metadata": {},
   "outputs": [],
   "source": []
  },
  {
   "cell_type": "code",
   "execution_count": null,
   "metadata": {},
   "outputs": [],
   "source": []
  },
  {
   "cell_type": "markdown",
   "metadata": {},
   "source": [
    "<div align=\"left\"><span style=\"font-family: Arial; color:#000000; font-size: medium\">\n",
    "    <span style=\"color:#FF0000\"><b>Ejercicio 4.</b></span> Analizar si la matriz\n",
    "\\[\n",
    "A = \\left( \\begin{array}{cccc} 1 & 2 & 1 & 1 \\\\ 2 & 3 & 4 & 3 \\\\ 1 & 4 & -4 & 0 \\\\ 1 & 3 & 0 & 0 \\end{array} \\right)\n",
    "\\]\n",
    "    es definida positiva.\n",
    "    </span></div>"
   ]
  },
  {
   "cell_type": "code",
   "execution_count": null,
   "metadata": {},
   "outputs": [],
   "source": [
    "# Ejercicio 5.\n",
    "..."
   ]
  },
  {
   "cell_type": "code",
   "execution_count": null,
   "metadata": {},
   "outputs": [],
   "source": [
    "def positive_definiteness(X):\n",
    "    "
   ]
  },
  {
   "cell_type": "code",
   "execution_count": null,
   "metadata": {},
   "outputs": [],
   "source": []
  }
 ],
 "metadata": {
  "kernelspec": {
   "display_name": "Python 3 (ipykernel)",
   "language": "python",
   "name": "python3"
  },
  "language_info": {
   "codemirror_mode": {
    "name": "ipython",
    "version": 3
   },
   "file_extension": ".py",
   "mimetype": "text/x-python",
   "name": "python",
   "nbconvert_exporter": "python",
   "pygments_lexer": "ipython3",
   "version": "3.9.12"
  }
 },
 "nbformat": 4,
 "nbformat_minor": 4
}
