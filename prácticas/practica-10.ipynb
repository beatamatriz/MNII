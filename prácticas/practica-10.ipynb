{
 "cells": [
  {
   "cell_type": "markdown",
   "id": "2e9170a7",
   "metadata": {},
   "source": [
    "<div align=\"center\"><span style=\"font-family: Arial; color:#0000FF\"><b>\n",
    "    <span style=\"font-size: x-large\">Métodos Numéricos II</span>\n",
    "    <br>\n",
    "    <span style=\"font-size: large\">Segundo de Grado en Matemáticas - Curso 2022/23</span>\n",
    "    <br>\n",
    "    <span style=\"font-size: medium\">Facultad de Ciencias de la Universidad de Málaga</span>\n",
    "    <br>\n",
    "    <span style=\"font-size: small\">Dpto. de Análisis Matemático, Estadística e Investigación Operativa, y Matemática Aplicada</span>\n",
    "    <br>\n",
    "    <span style=\"font-size: small\">Profs. Manuel J. Castro y Francisco J. Palma (Área Conocimiento de Matemática Aplicada)</span>\n",
    "    <br>\n",
    "    <span style=\"font-size: medium; color:#FF0000\">Práctica número 10</span>\n",
    "    </b></span></div>"
   ]
  },
  {
   "cell_type": "code",
   "execution_count": 1,
   "id": "26e5d562",
   "metadata": {},
   "outputs": [],
   "source": [
    "from algorithms import *"
   ]
  },
  {
   "cell_type": "markdown",
   "id": "8f0cf4e0",
   "metadata": {},
   "source": [
    "<div align=\"justify\"><span style=\"font-family: Arial,Helvetica,sans-serif; font-size: medium; color:#000000\">\n",
    "    Se considera el sistema de ecuaciones lineales $A\\,X=B$, donde \n",
    "\\[\n",
    "A = \\left( \\begin{array}{rrrrr}\n",
    "-33 & 36 & -27 & 18 & -9\\\\\n",
    "-33 & 51 & -45 & 30 & -15\\\\\n",
    "-19 & 38 & -45 & 34 & -17\\\\\n",
    "-9 & 18 & -27 & 27 & -15\\\\\n",
    "-3 & 6 & -9 & 12 & -9\n",
    "\\end{array} \\right) \\quad X = \\left( \\begin{array}{c}\n",
    "x_1 \\\\ x_2 \\\\ x_3 \\\\ x_4 \\\\ x_5\n",
    "\\end{array} \\right) \\quad B = \\left( \\begin{array}{c}\n",
    "120 \\\\ 186\\\\ 162\\\\ 99 \\\\ 36\n",
    "\\end{array} \\right)\n",
    "\\]\n",
    "    </span></div>"
   ]
  },
  {
   "cell_type": "markdown",
   "id": "21acfa78",
   "metadata": {},
   "source": [
    "<div align=\"left\"><span style=\"font-family: Arial; color:#000000; font-size: medium\">\n",
    "    <span style=\"color:#FF0000\"><b>Ejercicio 1.</b></span> Al aplicar el método de Gauss con estrategia de pivot parcial al sistema anterior, se obtiene un sistema triangular superior equivalente, que posteriormente se resuelve mediante un proceso de remonte. Escribir dicho sistema triangular superior.\n",
    "    </span></div>"
   ]
  },
  {
   "cell_type": "code",
   "execution_count": 2,
   "id": "3f5c2fe7",
   "metadata": {},
   "outputs": [
    {
     "name": "stdout",
     "output_type": "stream",
     "text": [
      "A =  [[-33  36 -27  18  -9]\n",
      " [-33  51 -45  30 -15]\n",
      " [-19  38 -45  34 -17]\n",
      " [ -9  18 -27  27 -15]\n",
      " [ -3   6  -9  12  -9]]\n"
     ]
    }
   ],
   "source": [
    "A = array([[-33, 36, -27, 18, -9], [-33, 51,-45, 30, -15], [ -19, 38, -45, 34, -17], [ -9, 18, -27, 27, -15],\n",
    "           [ -3, 6, -9, 12, -9]])\n",
    "print(\"A = \", A)"
   ]
  },
  {
   "cell_type": "markdown",
   "id": "9da205ae",
   "metadata": {},
   "source": [
    "<div align=\"left\"><span style=\"font-family: Arial; color:#000000; font-size: medium\">\n",
    "    <span style=\"color:#FF0000\"><b>Ejercicio 2.</b></span> Escribir la solución de dicho sistema, resuelto mediante el método de Gauss con estrategia de pívot parcial.\n",
    "    </span></div>"
   ]
  },
  {
   "cell_type": "code",
   "execution_count": null,
   "id": "13d545c8",
   "metadata": {},
   "outputs": [],
   "source": []
  },
  {
   "cell_type": "markdown",
   "id": "e1c9c89f",
   "metadata": {},
   "source": [
    "<div align=\"left\"><span style=\"font-family: Arial; color:#000000; font-size: medium\">\n",
    "    <span style=\"color:#FF0000\"><b>Ejercicio 3.</b></span> Obtener toda la información que sea posible sobre los autovalores y autovectores de la matriz A, utilizando única y exclusivamente el método de la potencia, el método de la potencia inversa, y el método de la potencia desplazada inversa con desplazamiento de $9$, en los tres casos tomando como vector inicial el primer vector de la base canónica.\n",
    "    <br>\n",
    "    Indicar también la localización de los autovalores que aún faltan por calcular. Se valorará positivamente la corrección de los razonamientos a partir de la información disponible.\n",
    "    </span></div>"
   ]
  },
  {
   "cell_type": "code",
   "execution_count": 1,
   "id": "53ee2908",
   "metadata": {},
   "outputs": [
    {
     "ename": "NameError",
     "evalue": "name 'array' is not defined",
     "output_type": "error",
     "traceback": [
      "\u001b[0;31m---------------------------------------------------------------------------\u001b[0m",
      "\u001b[0;31mNameError\u001b[0m                                 Traceback (most recent call last)",
      "Input \u001b[0;32mIn [1]\u001b[0m, in \u001b[0;36m<cell line: 1>\u001b[0;34m()\u001b[0m\n\u001b[0;32m----> 1\u001b[0m X0 \u001b[38;5;241m=\u001b[39m \u001b[43marray\u001b[49m([[\u001b[38;5;241m1\u001b[39m], [\u001b[38;5;241m0\u001b[39m], [\u001b[38;5;241m0\u001b[39m], [\u001b[38;5;241m0\u001b[39m], [\u001b[38;5;241m0\u001b[39m]])\n\u001b[1;32m      2\u001b[0m \u001b[38;5;28mprint\u001b[39m(\u001b[38;5;124m\"\u001b[39m\u001b[38;5;124mX_0 = \u001b[39m\u001b[38;5;124m\"\u001b[39m, X0)\n\u001b[1;32m      3\u001b[0m exito, normas, lambdas, X \u001b[38;5;241m=\u001b[39m potencia(A, X0, inf, \u001b[38;5;241m900\u001b[39m, \u001b[38;5;241m1e-9\u001b[39m)\n",
      "\u001b[0;31mNameError\u001b[0m: name 'array' is not defined"
     ]
    }
   ],
   "source": [
    "X0 = array([[1], [0], [0], [0], [0]])\n",
    "print(\"X_0 = \", X0)\n",
    "exito, normas, lambdas, X = potencia(A, X0, inf, 900, 1e-9)\n",
    "if exito:\n",
    "    print('Convergencia de las normas: ', normas)\n",
    "    print('Convergencia de los cocientes:', lambdas)\n",
    "    print('Convergencia de los vectores: ', X)\n",
    "else:\n",
    "    print(normas)\n",
    "\n",
    "# X1 = array([[1],[1/2],[0],[0],[0]])\n",
    "# l = -15\n",
    "# A@X1 - l*X1"
   ]
  },
  {
   "cell_type": "code",
   "execution_count": 7,
   "id": "ca0e260a",
   "metadata": {},
   "outputs": [
    {
     "name": "stdout",
     "output_type": "stream",
     "text": [
      "Iteración: k =  1\n",
      "Norma: ||A-1*X_k|| =  0.22222222222222202\n",
      "Iteración: k =  2\n",
      "Norma: ||A-1*X_k|| =  0.12499999999999974\n",
      "Iteración: k =  3\n",
      "Norma: ||A-1*X_k|| =  0.4999999999999997\n",
      "Iteración: k =  4\n",
      "Norma: ||A-1*X_k|| =  0.2777777777777779\n",
      "Iteración: k =  5\n",
      "Norma: ||A-1*X_k|| =  0.36666666666666653\n",
      "Iteración: k =  6\n",
      "Norma: ||A-1*X_k|| =  0.31818181818181823\n",
      "Iteración: k =  7\n",
      "Norma: ||A-1*X_k|| =  0.3412698412698412\n",
      "Iteración: k =  8\n",
      "Norma: ||A-1*X_k|| =  0.32945736434108525\n",
      "Iteración: k =  9\n",
      "Norma: ||A-1*X_k|| =  0.3352941176470588\n",
      "Iteración: k =  10\n",
      "Norma: ||A-1*X_k|| =  0.3323586744639377\n",
      "Iteración: k =  11\n",
      "Norma: ||A-1*X_k|| =  0.333822091886608\n",
      "Iteración: k =  12\n",
      "Norma: ||A-1*X_k|| =  0.3330893118594436\n",
      "Iteración: k =  13\n",
      "Norma: ||A-1*X_k|| =  0.33345543345543344\n",
      "Iteración: k =  14\n",
      "Norma: ||A-1*X_k|| =  0.33327230562675453\n",
      "Iteración: k =  15\n",
      "Norma: ||A-1*X_k|| =  0.33336385277421715\n",
      "Iteración: k =  16\n",
      "Norma: ||A-1*X_k|| =  0.333318075009918\n",
      "Iteración: k =  17\n",
      "Norma: ||A-1*X_k|| =  0.3333409628442816\n",
      "Iteración: k =  18\n",
      "Norma: ||A-1*X_k|| =  0.3333295186651714\n",
      "Iteración: k =  19\n",
      "Norma: ||A-1*X_k|| =  0.3333352406892421\n",
      "Iteración: k =  20\n",
      "Norma: ||A-1*X_k|| =  0.3333323796608359\n",
      "Iteración: k =  21\n",
      "Norma: ||A-1*X_k|| =  0.33333381017094627\n",
      "Iteración: k =  22\n",
      "Norma: ||A-1*X_k|| =  0.33333309491486784\n",
      "Iteración: k =  23\n",
      "Norma: ||A-1*X_k|| =  0.3333334525426513\n",
      "Iteración: k =  24\n",
      "Norma: ||A-1*X_k|| =  0.33333327372869564\n",
      "Iteración: k =  25\n",
      "Norma: ||A-1*X_k|| =  0.3333333631356575\n",
      "Iteración: k =  26\n",
      "Norma: ||A-1*X_k|| =  0.3333333184321727\n",
      "Iteración: k =  27\n",
      "Norma: ||A-1*X_k|| =  0.3333333407839139\n",
      "Iteración: k =  28\n",
      "Norma: ||A-1*X_k|| =  0.3333333296080431\n",
      "Iteración: k =  29\n",
      "Norma: ||A-1*X_k|| =  0.33333333519597846\n",
      "Iteración: k =  30\n",
      "Norma: ||A-1*X_k|| =  0.33333333240201074\n",
      "Iteración: k =  31\n",
      "Norma: ||A-1*X_k|| =  0.3333333337989946\n",
      "Iteración: k =  32\n",
      "Norma: ||A-1*X_k|| =  0.33333333310050267\n",
      "Método de la potencia inversa: convergencia numérica alcanzada.\n",
      "Convergencia de las normas:  0.33333333310050267\n",
      "Convergencia de los cocientes: [-0.05040713 -0.11209148  0.1666639  -0.33333333 -0.33333333]\n",
      "Convergencia de los vectores:  [[-1.63142440e-17]\n",
      " [ 7.66183667e-16]\n",
      " [-2.32829121e-10]\n",
      " [ 5.00000000e-01]\n",
      " [ 1.00000000e+00]]\n"
     ]
    }
   ],
   "source": [
    "exito, normas, lambdas, X = potenciainv(A, X0, inf, 900, 1e-9)\n",
    "if exito:\n",
    "    print('Convergencia de las normas: ', normas)\n",
    "    print('Convergencia de los cocientes:', lambdas)\n",
    "    print('Convergencia de los vectores: ', X)\n",
    "else:\n",
    "    print(normas)"
   ]
  },
  {
   "cell_type": "code",
   "execution_count": 26,
   "id": "764b4232",
   "metadata": {},
   "outputs": [
    {
     "name": "stdout",
     "output_type": "stream",
     "text": [
      "Iteración: k =  1\n",
      "Norma: ||A-1*X_k|| =  0.5607287449392749\n",
      "Iteración: k =  2\n",
      "Norma: ||A-1*X_k|| =  0.4390374018912903\n",
      "Iteración: k =  3\n",
      "Norma: ||A-1*X_k|| =  0.5087678302723405\n",
      "Iteración: k =  4\n",
      "Norma: ||A-1*X_k|| =  0.4988722818987723\n",
      "Iteración: k =  5\n",
      "Norma: ||A-1*X_k|| =  0.5001530051647011\n",
      "Iteración: k =  6\n",
      "Norma: ||A-1*X_k|| =  0.4999786653903456\n",
      "Iteración: k =  7\n",
      "Norma: ||A-1*X_k|| =  0.5000030510677869\n",
      "Iteración: k =  8\n",
      "Norma: ||A-1*X_k|| =  0.49999955495713894\n",
      "Iteración: k =  9\n",
      "Norma: ||A-1*X_k|| =  0.500000065905108\n",
      "Iteración: k =  10\n",
      "Norma: ||A-1*X_k|| =  0.49999999013055546\n",
      "Iteración: k =  11\n",
      "Norma: ||A-1*X_k|| =  0.5000000014899791\n",
      "Iteración: k =  12\n",
      "Norma: ||A-1*X_k|| =  0.49999999977376475\n",
      "Iteración: k =  13\n",
      "Norma: ||A-1*X_k|| =  0.5000000000344936\n",
      "Método de la potencia inversa: convergencia numérica alcanzada.\n",
      "Convergencia de las normas:  0.5000000000344936\n",
      "Convergencia de los cocientes: [-0.12500221 -0.49999996 -0.5        -0.49993897  0.25000012]\n",
      "Convergencia de los vectores:  [[-2.48353996e-08]\n",
      " [-5.00000012e-01]\n",
      " [-1.00000000e+00]\n",
      " [-4.99979655e-01]\n",
      " [ 4.06900952e-05]]\n"
     ]
    }
   ],
   "source": [
    "exito, normas, lambdas, X = potenciadesinv(A, X0, -7, inf, 900, 1e-9)\n",
    "if exito:\n",
    "    print('Convergencia de las normas: ', normas)\n",
    "    print('Convergencia de los cocientes:', lambdas)\n",
    "    print('Convergencia de los vectores: ', X)\n",
    "else:\n",
    "    print(normas)"
   ]
  },
  {
   "cell_type": "code",
   "execution_count": 33,
   "id": "69969aa7",
   "metadata": {},
   "outputs": [
    {
     "name": "stdout",
     "output_type": "stream",
     "text": [
      "Comprobaciones:\n",
      "AX1+15X1= [[0.]\n",
      " [0.]\n",
      " [0.]\n",
      " [0.]\n",
      " [0.]]\n",
      "AX2+15X2= [[0.]\n",
      " [0.]\n",
      " [0.]\n",
      " [0.]\n",
      " [0.]]\n",
      "AX3+15X3= [[0.]\n",
      " [0.]\n",
      " [0.]\n",
      " [0.]\n",
      " [0.]]\n",
      "AX4+15X4= [[0.]\n",
      " [0.]\n",
      " [0.]\n",
      " [0.]\n",
      " [0.]]\n",
      "AX5+15X5= [[0.]\n",
      " [0.]\n",
      " [0.]\n",
      " [0.]\n",
      " [0.]]\n"
     ]
    }
   ],
   "source": [
    "X1 = array([[1],[1/2],[0],[0],[0]])\n",
    "l1 = -15\n",
    "X2 = array([[0],[0],[0],[1/2],[1]])\n",
    "l2 = -3\n",
    "X3 = array([[-1/2],[-1],[-1/2],[0],[0]])\n",
    "l3 = 12\n",
    "X4 = array([[0],[0],[1/2],[1],[1/2]])\n",
    "l4 = 6\n",
    "\n",
    "X5 = array([[0],[-1/2],[-1],[-1/2],[0]])\n",
    "l5 = -9\n",
    "\n",
    "print(\"Comprobaciones:\")\n",
    "print(\"AX1+15X1=\", A@X1 - l1*X1)\n",
    "print(\"AX2+15X2=\", A@X2 - l2*X2)\n",
    "print(\"AX3+15X3=\", A@X3 - l3*X3)\n",
    "print(\"AX4+15X4=\", A@X4 - l4*X4)\n",
    "print(\"AX5+15X5=\", A@X5 - l5*X5)"
   ]
  },
  {
   "cell_type": "markdown",
   "id": "430c5eec",
   "metadata": {},
   "source": [
    "<div align=\"left\"><span style=\"font-family: Arial; color:#000000; font-size: medium\">\n",
    "    <span style=\"color:#FF0000\"><b>Ejercicio 4.</b></span> Construir una matriz de orden $𝑛=5$, pentadiagonal, cuyos elementos diagonales valgan 4, y los elementos de las dos diagonales superiores e inferiores $−1$. Tomando como vector inicial aquel que tiene todas sus componentes igual a 1, y aplicando el método de la potencia, calcular su autovalor de módulo mayor y menor; calcular también $cond_2(𝐴)$. Ídem para $𝑛=20$.\n",
    "    </span></div>"
   ]
  },
  {
   "cell_type": "code",
   "execution_count": 62,
   "id": "44d94f84",
   "metadata": {},
   "outputs": [
    {
     "name": "stdout",
     "output_type": "stream",
     "text": [
      "[[ 4 -1 -1  0  0]\n",
      " [-1  4 -1 -1  0]\n",
      " [-1 -1  4 -1 -1]\n",
      " [ 0 -1 -1  4 -1]\n",
      " [ 0  0 -1 -1  4]]\n",
      "[[1 1 0]\n",
      " [1 1 1]\n",
      " [0 1 1]]\n",
      "3\n",
      "-1\n",
      "[1]\n",
      "2\n",
      "[[0. 0. 0.]\n",
      " [0. 0. 0.]\n",
      " [0. 0. 0.]]\n",
      "[[0 0]\n",
      " [2 0]]\n"
     ]
    },
    {
     "ename": "ValueError",
     "evalue": "operands could not be broadcast together with shapes (3,3) (2,2) ",
     "output_type": "error",
     "traceback": [
      "\u001b[1;31m---------------------------------------------------------------------------\u001b[0m",
      "\u001b[1;31mValueError\u001b[0m                                Traceback (most recent call last)",
      "\u001b[1;32m<ipython-input-62-ace367aa9f70>\u001b[0m in \u001b[0;36m<module>\u001b[1;34m\u001b[0m\n\u001b[0;32m     21\u001b[0m             \u001b[0mm\u001b[0m \u001b[1;33m=\u001b[0m \u001b[0mm\u001b[0m \u001b[1;33m+\u001b[0m \u001b[0mdiag\u001b[0m\u001b[1;33m(\u001b[0m\u001b[0mv\u001b[0m\u001b[1;33m[\u001b[0m\u001b[0mi\u001b[0m\u001b[1;33m]\u001b[0m\u001b[1;33m*\u001b[0m\u001b[1;33m(\u001b[0m\u001b[0mn\u001b[0m\u001b[1;33m-\u001b[0m\u001b[0mabs\u001b[0m\u001b[1;33m(\u001b[0m\u001b[0md\u001b[0m\u001b[1;33m)\u001b[0m\u001b[1;33m)\u001b[0m\u001b[1;33m,\u001b[0m \u001b[0md\u001b[0m\u001b[1;33m)\u001b[0m\u001b[1;33m\u001b[0m\u001b[1;33m\u001b[0m\u001b[0m\n\u001b[0;32m     22\u001b[0m         \u001b[1;32mreturn\u001b[0m \u001b[0mm\u001b[0m\u001b[1;33m\u001b[0m\u001b[1;33m\u001b[0m\u001b[0m\n\u001b[1;32m---> 23\u001b[1;33m \u001b[0mprint\u001b[0m\u001b[1;33m(\u001b[0m\u001b[0mvdiag\u001b[0m\u001b[1;33m(\u001b[0m\u001b[0mvec\u001b[0m\u001b[1;33m)\u001b[0m\u001b[1;33m)\u001b[0m\u001b[1;33m\u001b[0m\u001b[1;33m\u001b[0m\u001b[0m\n\u001b[0m\u001b[0;32m     24\u001b[0m \u001b[0mX0\u001b[0m \u001b[1;33m=\u001b[0m \u001b[0marray\u001b[0m\u001b[1;33m(\u001b[0m\u001b[1;33m[\u001b[0m\u001b[1;33m[\u001b[0m\u001b[1;36m1\u001b[0m\u001b[1;33m]\u001b[0m\u001b[1;33m,\u001b[0m\u001b[1;33m[\u001b[0m\u001b[1;36m1\u001b[0m\u001b[1;33m]\u001b[0m\u001b[1;33m,\u001b[0m\u001b[1;33m[\u001b[0m\u001b[1;36m1\u001b[0m\u001b[1;33m]\u001b[0m\u001b[1;33m,\u001b[0m\u001b[1;33m[\u001b[0m\u001b[1;36m1\u001b[0m\u001b[1;33m]\u001b[0m\u001b[1;33m,\u001b[0m\u001b[1;33m[\u001b[0m\u001b[1;36m1\u001b[0m\u001b[1;33m]\u001b[0m\u001b[1;33m]\u001b[0m\u001b[1;33m)\u001b[0m\u001b[1;33m\u001b[0m\u001b[1;33m\u001b[0m\u001b[0m\n\u001b[0;32m     25\u001b[0m \u001b[0mprint\u001b[0m\u001b[1;33m(\u001b[0m\u001b[1;34m\"X_0 = \"\u001b[0m\u001b[1;33m,\u001b[0m \u001b[0mX0\u001b[0m\u001b[1;33m)\u001b[0m\u001b[1;33m\u001b[0m\u001b[1;33m\u001b[0m\u001b[0m\n",
      "\u001b[1;32m<ipython-input-62-ace367aa9f70>\u001b[0m in \u001b[0;36mvdiag\u001b[1;34m(v, trans)\u001b[0m\n\u001b[0;32m     19\u001b[0m             \u001b[0mdi\u001b[0m \u001b[1;33m=\u001b[0m \u001b[0mdiag\u001b[0m\u001b[1;33m(\u001b[0m\u001b[0mv\u001b[0m\u001b[1;33m[\u001b[0m\u001b[0mi\u001b[0m\u001b[1;33m]\u001b[0m\u001b[1;33m*\u001b[0m\u001b[1;33m(\u001b[0m\u001b[0mn\u001b[0m\u001b[1;33m-\u001b[0m\u001b[0mabs\u001b[0m\u001b[1;33m(\u001b[0m\u001b[0md\u001b[0m\u001b[1;33m)\u001b[0m\u001b[1;33m)\u001b[0m\u001b[1;33m,\u001b[0m \u001b[0md\u001b[0m\u001b[1;33m)\u001b[0m\u001b[1;33m\u001b[0m\u001b[1;33m\u001b[0m\u001b[0m\n\u001b[0;32m     20\u001b[0m             \u001b[0mprint\u001b[0m\u001b[1;33m(\u001b[0m\u001b[0mdi\u001b[0m\u001b[1;33m)\u001b[0m\u001b[1;33m\u001b[0m\u001b[1;33m\u001b[0m\u001b[0m\n\u001b[1;32m---> 21\u001b[1;33m             \u001b[0mm\u001b[0m \u001b[1;33m=\u001b[0m \u001b[0mm\u001b[0m \u001b[1;33m+\u001b[0m \u001b[0mdiag\u001b[0m\u001b[1;33m(\u001b[0m\u001b[0mv\u001b[0m\u001b[1;33m[\u001b[0m\u001b[0mi\u001b[0m\u001b[1;33m]\u001b[0m\u001b[1;33m*\u001b[0m\u001b[1;33m(\u001b[0m\u001b[0mn\u001b[0m\u001b[1;33m-\u001b[0m\u001b[0mabs\u001b[0m\u001b[1;33m(\u001b[0m\u001b[0md\u001b[0m\u001b[1;33m)\u001b[0m\u001b[1;33m)\u001b[0m\u001b[1;33m,\u001b[0m \u001b[0md\u001b[0m\u001b[1;33m)\u001b[0m\u001b[1;33m\u001b[0m\u001b[1;33m\u001b[0m\u001b[0m\n\u001b[0m\u001b[0;32m     22\u001b[0m         \u001b[1;32mreturn\u001b[0m \u001b[0mm\u001b[0m\u001b[1;33m\u001b[0m\u001b[1;33m\u001b[0m\u001b[0m\n\u001b[0;32m     23\u001b[0m \u001b[0mprint\u001b[0m\u001b[1;33m(\u001b[0m\u001b[0mvdiag\u001b[0m\u001b[1;33m(\u001b[0m\u001b[0mvec\u001b[0m\u001b[1;33m)\u001b[0m\u001b[1;33m)\u001b[0m\u001b[1;33m\u001b[0m\u001b[1;33m\u001b[0m\u001b[0m\n",
      "\u001b[1;31mValueError\u001b[0m: operands could not be broadcast together with shapes (3,3) (2,2) "
     ]
    }
   ],
   "source": [
    "M = diag([4]*5)+diag([-1]*4,1)+diag([-1]*4,-1)+diag([-1]*3,2)+diag([-1]*3,-2)\n",
    "print(M)\n",
    "\n",
    "vec = array([[1],[1],[1]])\n",
    "print(diag([1]*2,-1)+diag([1]*3,0)+diag([1]*2,1))\n",
    "def vdiag(v, trans=True):\n",
    "    n,m=shape(v)\n",
    "    print(n)\n",
    "    if n%2 == 0:\n",
    "        return False\n",
    "    else:\n",
    "        m = zeros((int(n),int(n)))\n",
    "        for i in range(n):\n",
    "            d = int(i-(n-1)/2)\n",
    "            print(d)\n",
    "            print(v[i])\n",
    "            print(n-abs(d))\n",
    "            print(m)\n",
    "            di = diag(v[i]*(n-abs(d)), d)\n",
    "            print(di)\n",
    "            m = m + diag(v[i]*(n-abs(d)), d)\n",
    "        return m\n",
    "print(vdiag(vec))\n",
    "X0 = array([[1],[1],[1],[1],[1]])\n",
    "print(\"X_0 = \", X0)\n",
    "exito, normas, lambdas, X = potencia(conjugada(A)@A, X0, inf, 900, 1e-9)\n",
    "if exito:\n",
    "    print('Convergencia de las normas: ', normas)\n",
    "    print('Convergencia de los cocientes:', lambdas)\n",
    "    print('Convergencia de los vectores: ', X)\n",
    "else:\n",
    "    print(normas)\n",
    "print(pow(lambdas,1/2))\n",
    "exito, normas, lambdas, X = potenciainv(conjugada(A)@A, X0, inf, 900, 1e-9)\n",
    "if exito:\n",
    "    print('Convergencia de las normas: ', normas)\n",
    "    print('Convergencia de los cocientes:', lambdas)\n",
    "    print('Convergencia de los vectores: ', X)\n",
    "else:\n",
    "    print(normas)\n",
    "\n",
    "print(pow(lambdas,-1/2))"
   ]
  },
  {
   "cell_type": "markdown",
   "id": "9efd140e",
   "metadata": {},
   "source": [
    "<div align=\"left\"><span style=\"font-family: Arial; color:#000000; font-size: medium\">\n",
    "    <span style=\"color:#FF0000\"><b>Ejercicio 5.</b></span> Dadas las matrices\n",
    "\\[\n",
    "A = \\left( \\begin{array}{rrrr}\n",
    "9 & 1 & -2 & 1 \\\\ 1 & 8 & -3 & 2 \\\\ -2 & -3 & 7 & -1 \\\\ 1 & -2 & -1 & 6\n",
    "\\end{array} \\right) \\quad A = \\left( \\begin{array}{rrrr}\n",
    "9 & 1 & -2 & 1 \\\\ 1 & 8 & -3 & -2 \\\\ -2 & -3 & 7 & -1 \\\\ 1 & -2 & -1 & 6\n",
    "\\end{array} \\right)\n",
    "\\]\n",
    "\\[\n",
    "A = \\left( \\begin{array}{rrrr}\n",
    "1 & 2 & 3 & 4 \\\\ 2 & 1 & 4 & 3 \\\\ 3 & 4 & 1 & 2 \\\\ 4 & 3 & 2 & 1\n",
    "\\end{array} \\right)\n",
    "\\]\n",
    "\\[\n",
    "A = \\left( \\begin{array}{rrrr}\n",
    "1 & -1 & 3 & 4 \\\\ -1 & 4 & 0 & -1 \\\\ 3 & 0 & 0 & -3 \\\\ 4 & -1 & -3 & 1\n",
    "\\end{array} \\right) \\quad A = \\left( \\begin{array}{rrrr}\n",
    "0 & 1 & -2 & 3 \\\\ -1 & 0 & 4 & -5 \\\\ 2 & -4 & 0 & 6 \\\\ -3 & 5 & -6 & 0\n",
    "\\end{array} \\right)\n",
    "\\]\n",
    "calcular mediante el método de la potencia y sus variantes toda la información posible sobre sus autovalores y autovectores.\n",
    "    </span></div>"
   ]
  },
  {
   "cell_type": "code",
   "execution_count": null,
   "id": "6af82d27",
   "metadata": {},
   "outputs": [],
   "source": []
  }
 ],
 "metadata": {
  "kernelspec": {
   "display_name": "Python 3 (ipykernel)",
   "language": "python",
   "name": "python3"
  },
  "language_info": {
   "codemirror_mode": {
    "name": "ipython",
    "version": 3
   },
   "file_extension": ".py",
   "mimetype": "text/x-python",
   "name": "python",
   "nbconvert_exporter": "python",
   "pygments_lexer": "ipython3",
   "version": "3.9.12"
  }
 },
 "nbformat": 4,
 "nbformat_minor": 5
}
