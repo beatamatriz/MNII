{
 "cells": [
  {
   "cell_type": "markdown",
   "id": "2e9170a7",
   "metadata": {},
   "source": [
    "<div align=\"center\"><span style=\"font-family: Arial; color:#0000FF\"><b>\n",
    "    <span style=\"font-size: x-large\">Métodos Numéricos II</span>\n",
    "    <br>\n",
    "    <span style=\"font-size: large\">Segundo de Grado en Matemáticas - Curso 2022/23</span>\n",
    "    <br>\n",
    "    <span style=\"font-size: medium\">Facultad de Ciencias de la Universidad de Málaga</span>\n",
    "    <br>\n",
    "    <span style=\"font-size: small\">Dpto. de Análisis Matemático, Estadística e Investigación Operativa, y Matemática Aplicada</span>\n",
    "    <br>\n",
    "    <span style=\"font-size: small\">Profs. Manuel J. Castro y Francisco J. Palma (Área Conocimiento de Matemática Aplicada)</span>\n",
    "    <br>\n",
    "    <span style=\"font-size: medium; color:#FF0000\">Práctica número 11</span>\n",
    "    </b></span></div>"
   ]
  },
  {
   "cell_type": "code",
   "execution_count": 2,
   "id": "26e5d562",
   "metadata": {},
   "outputs": [],
   "source": [
    "from algorithms import *"
   ]
  },
  {
   "cell_type": "code",
   "execution_count": null,
   "id": "a79ff22d",
   "metadata": {},
   "outputs": [],
   "source": []
  },
  {
   "cell_type": "markdown",
   "id": "08fb13d3",
   "metadata": {},
   "source": [
    "<div align=\"left\"><span style=\"font-family: Arial; color:#000000; font-size: medium\">\n",
    "    <span style=\"color:#FF0000\"><b>Ejercicio.</b></span> Se consideran las matrices $A = \\left( \\begin{array}{ccc} 1 & 2 & -2 \\\\ 1 & 1 & 1 \\\\ 2 & 2 & 1 \\end{array} \\right)$ y $B = \\left( \\begin{array}{ccc} 2 & -1 & 1 \\\\ 2 & 2 & 2 \\\\ -1 & -1 & 2 \\end{array} \\right)$.\n",
    "    <br>\n",
    "    Demostrar que para la primera matriz el método iterativo de Jacobi es convergente, pero el de Gauss-Seidel no lo es, mientras que para la segunda matriz ocurre justamente lo contrario. Escribir las matrices de ambos métodos iterativos para las dos matrices dadas.\n",
    "    </span></div>"
   ]
  },
  {
   "cell_type": "code",
   "execution_count": 1,
   "id": "34008a8b",
   "metadata": {},
   "outputs": [
    {
     "ename": "NameError",
     "evalue": "name 'array' is not defined",
     "output_type": "error",
     "traceback": [
      "\u001b[0;31m---------------------------------------------------------------------------\u001b[0m",
      "\u001b[0;31mNameError\u001b[0m                                 Traceback (most recent call last)",
      "Input \u001b[0;32mIn [1]\u001b[0m, in \u001b[0;36m<cell line: 1>\u001b[0;34m()\u001b[0m\n\u001b[0;32m----> 1\u001b[0m A\u001b[38;5;241m=\u001b[39m\u001b[43marray\u001b[49m([[\u001b[38;5;241m1\u001b[39m,\u001b[38;5;241m2\u001b[39m,\u001b[38;5;241m-\u001b[39m\u001b[38;5;241m2\u001b[39m],[\u001b[38;5;241m1\u001b[39m,\u001b[38;5;241m1\u001b[39m,\u001b[38;5;241m1\u001b[39m],[\u001b[38;5;241m2\u001b[39m,\u001b[38;5;241m2\u001b[39m,\u001b[38;5;241m1\u001b[39m]])\n\u001b[1;32m      2\u001b[0m B\u001b[38;5;241m=\u001b[39marray([[\u001b[38;5;241m2\u001b[39m,\u001b[38;5;241m-\u001b[39m\u001b[38;5;241m1\u001b[39m,\u001b[38;5;241m1\u001b[39m],[\u001b[38;5;241m2\u001b[39m,\u001b[38;5;241m2\u001b[39m,\u001b[38;5;241m2\u001b[39m],[\u001b[38;5;241m-\u001b[39m\u001b[38;5;241m1\u001b[39m,\u001b[38;5;241m-\u001b[39m\u001b[38;5;241m1\u001b[39m,\u001b[38;5;241m2\u001b[39m]])\n\u001b[1;32m      3\u001b[0m \u001b[38;5;28mprint\u001b[39m(A)\n",
      "\u001b[0;31mNameError\u001b[0m: name 'array' is not defined"
     ]
    }
   ],
   "source": [
    "A=array([[1,2,-2],[1,1,1],[2,2,1]])\n",
    "B=array([[2,-1,1],[2,2,2],[-1,-1,2]])\n",
    "print(A)\n",
    "\n",
    "print(triu(A,1))\n",
    "print(tril(A,-1))\n",
    "print(diag(diag(A)))"
   ]
  },
  {
   "cell_type": "code",
   "execution_count": 31,
   "id": "0d6b5658",
   "metadata": {},
   "outputs": [
    {
     "name": "stdout",
     "output_type": "stream",
     "text": [
      "6.590956759425272e-06\n",
      "True\n",
      "2.0\n",
      "False\n",
      "1.1180339887498945\n",
      "False\n",
      "0.5\n",
      "True\n"
     ]
    }
   ],
   "source": [
    "def jacobi_matrix(M):\n",
    "    return inverse_lu(diag(diag(M)))[1]@(-triu(M,1)-tril(M,-1))\n",
    "def gauss_seidel_matrix(M):\n",
    "    return inverse_lu(diag(diag(M))+tril(M,-1))[1]@(-triu(M,1))\n",
    "\n",
    "def is_jaco_convergent(M, verbose=False):\n",
    "    sr = max(abs(eigvals(jacobi_matrix(M))))\n",
    "    if verbose:\n",
    "        print(sr)\n",
    "    return sr < 1\n",
    "\n",
    "def is_gase_convergent(M, verbose=False):\n",
    "    sr = max(abs(eigvals(gauss_seidel_matrix(M))))\n",
    "    if verbose:\n",
    "        print(sr)\n",
    "    return sr < 1\n",
    "\n",
    "\n",
    "print(is_jaco_convergent(A,True))\n",
    "print(is_gase_convergent(A,True))\n",
    "print(is_jaco_convergent(B,True))\n",
    "print(is_gase_convergent(B,True))\n"
   ]
  },
  {
   "cell_type": "markdown",
   "id": "39915750",
   "metadata": {},
   "source": [
    "<div align=\"left\"><span style=\"font-family: Arial; color:#000000; font-size: medium\">\n",
    "    <span style=\"color:#FF0000\"><b>Ejercicio.</b></span> Se considera la matriz $A = \\left( \\begin{array}{cccccc} 0 & & & & & \\mbox{sim} \\\\ 1 & 0 \\\\ 6 & 2 & 0 \\\\ 0 & 7 & 3 & 0 \\\\ 0 & 0 & 8 & 4 & 0 \\\\ 0 & 0 & 0 & 9 & 5 & 0 \\end{array} \\right)$\n",
    "    <br>\n",
    "    Calcular la matriz ortogonal $\\Omega$ tal que $B=\\Omega^t\\,A\\,\\Omega$ anula el elemento de módulo mayor (y su simétrico) de $A$, de acuerdo con el método de Jacobi para aproximar los autovalores de una matriz simétrica. Comprobar que las matrices $A$ y $B$ tienen la misma norma euclídea y que la contribución a dicha norma en $A$ de los elementos que se anulan, pasa ahora a la diagonal de $B$.\n",
    "    </span></div>"
   ]
  },
  {
   "cell_type": "code",
   "execution_count": 61,
   "id": "344eba30",
   "metadata": {},
   "outputs": [
    {
     "name": "stdout",
     "output_type": "stream",
     "text": [
      "[[ 0.00000000e+00  1.00000000e+00  6.00000000e+00  0.00000000e+00\n",
      "   0.00000000e+00  0.00000000e+00]\n",
      " [ 1.00000000e+00  0.00000000e+00  2.00000000e+00  4.94974747e+00\n",
      "   0.00000000e+00  4.94974747e+00]\n",
      " [ 6.00000000e+00  2.00000000e+00  0.00000000e+00  2.12132034e+00\n",
      "   8.00000000e+00  2.12132034e+00]\n",
      " [ 0.00000000e+00  4.94974747e+00  2.12132034e+00 -9.00000000e+00\n",
      "  -7.07106781e-01  3.74417717e-17]\n",
      " [ 0.00000000e+00  0.00000000e+00  8.00000000e+00 -7.07106781e-01\n",
      "   0.00000000e+00  6.36396103e+00]\n",
      " [ 0.00000000e+00  4.94974747e+00  2.12132034e+00 -3.74417717e-17\n",
      "   6.36396103e+00  9.00000000e+00]]\n",
      "15.538462817291219\n"
     ]
    }
   ],
   "source": [
    "A = diag(arange(1,6),-1)+diag(arange(6,10),-2)\n",
    "A = conjugada(A)+A\n",
    "\n",
    "def numeritos(n,m):\n",
    "    M = diag(arange(1,n)-1)\n",
    "    for i in range(2,m+1):\n",
    "        M = M + diag(arange((i-1)*(n-i-1),(i+1)*(n-i-2)),-i)#AAAAAAAAAAAA\n",
    "    return M + conjugada(M)    \n",
    "\n",
    "Omeg = eye(6)\n",
    "theta = pi/4 #inversa de la cotangente de 0   /2\n",
    "Omeg[5,5] = cos(theta) \n",
    "Omeg[3,3] = cos(theta)\n",
    "Omeg[3,5] = sin(theta)\n",
    "Omeg[5,3] = -sin(theta)\n",
    "\n",
    "#print(Omeg)\n",
    "\n",
    "B = conjugada(Omeg)@A@Omeg\n",
    "\n",
    "print(B)\n",
    "print(norm(A-B,2))"
   ]
  },
  {
   "cell_type": "code",
   "execution_count": null,
   "id": "06160db9",
   "metadata": {},
   "outputs": [],
   "source": []
  },
  {
   "cell_type": "markdown",
   "id": "a9ea361d",
   "metadata": {},
   "source": [
    "<div align=\"left\"><span style=\"font-family: Arial; color:#000000; font-size: medium\">\n",
    "    <span style=\"color:#FF0000\"><b>Ejercicio.</b></span> Una empresa de marketing se plantea la inversión en publicidad para el próximo año. Para ello toma en cuenta los datos de gasto en publicidad y de beneficio en ventas de los últimos 7 años, que están dados por la tabla\n",
    "\\[\n",
    "\\begin{array}{c|c|c|c|c|c|c|c|c}\n",
    "x &\\mbox{Gastos (m€)} & 10 & 25 & 30 & 42 & 45 & 57 & 62 \\\\ \\hline\n",
    "y &\\mbox{Ventas (m€)} & 20 & 30 & 45 & 53 & 62 & 83 & 95\n",
    "\\end{array}\n",
    "\\]\n",
    "    La empresa va a invertir 65 m€ en publicidad, y quiere saber cuál va a ser el beneficio previsto en ventas (mediante un ajuste por mínimos cuadrados).\n",
    "    </span></div>"
   ]
  },
  {
   "cell_type": "code",
   "execution_count": 55,
   "id": "04763301",
   "metadata": {},
   "outputs": [],
   "source": [
    "# Generamos los datos.\n",
    "gastos = array([10, 25, 30, 42, 45, 57, 62])\n",
    "ventas = array([20, 30, 45, 53, 62, 83, 95])"
   ]
  },
  {
   "cell_type": "code",
   "execution_count": 56,
   "id": "d2dfad19",
   "metadata": {},
   "outputs": [],
   "source": [
    "import matplotlib.pyplot as plt"
   ]
  },
  {
   "cell_type": "code",
   "execution_count": 57,
   "id": "9dfdde6b",
   "metadata": {},
   "outputs": [
    {
     "data": {
      "image/png": "[encoded data removed]",
      "text/plain": [
       "<Figure size 432x288 with 1 Axes>"
      ]
     },
     "metadata": {
      "needs_background": "light"
     },
     "output_type": "display_data"
    }
   ],
   "source": [
    "# Representamos los datos.\n",
    "categories = array([0, 1, 2, 3, 4, 5, 6])\n",
    "colormap = array(['blue', 'orange', 'green', 'red', 'purple', 'pink', 'brown'])\n",
    "plt.xlim([0, 100])\n",
    "plt.ylim([0, 100])\n",
    "plt.grid(True)\n",
    "plt.scatter(gastos, ventas, c=colormap[categories])\n",
    "plt.xlabel('x = Gastos (m€)')\n",
    "plt.ylabel('y = Ventas (m€)')\n",
    "for i in range(size(gastos)):\n",
    "    plt.text(x=gastos[i]+2, y=ventas[i]-1, s=\"$(x_\"+str(i+1)+\",y_\"+str(i+1)+\")$\", fontdict=dict(color=colormap[i], size=10))\n",
    "plt.show()"
   ]
  },
  {
   "cell_type": "code",
   "execution_count": null,
   "id": "dcdad907",
   "metadata": {},
   "outputs": [],
   "source": [
    "# Recta de mínimos cuadrados."
   ]
  },
  {
   "cell_type": "code",
   "execution_count": null,
   "id": "e6fdaa4a",
   "metadata": {},
   "outputs": [],
   "source": [
    "# Representamos la recta."
   ]
  },
  {
   "cell_type": "code",
   "execution_count": null,
   "id": "89c2e492",
   "metadata": {},
   "outputs": [],
   "source": []
  },
  {
   "cell_type": "markdown",
   "id": "6d559a7d",
   "metadata": {},
   "source": [
    "**Ejercicio**\n",
    "La evolución de la temperatura a lo largo del día sigue la siguiente función periódica \n",
    "\n",
    "$$T(t)=c_1+c_2cos(\\pi\\,t/12)+c_3sin(\\pi\\,t/12) \\qquad t\\in \\big[0,24\\big]$$ \n",
    "Dadas las temperaturas tomadas en ciertas horas y proporcionadas en la siguiente tabla, \n",
    "\n",
    "| \t| \t| \t|  \t|  \t| |  \t| | \t| \t| \t|  \t|  \t| |  \t| |\n",
    "|-\t|-\t|-\t|-\t|-\t|-\t|-\t|-\t|-\t|-\t|-\t|-\t|-\t|-\t|-\t|-\t|\n",
    "| Hora del día \t| 0h \t| 1h \t| 2h \t| 3h \t| 4h \t| 5h \t| 6h\t| 7h \t| 8h \t| 9h \t| 10h \t| 11h \t| 12h\t|\n",
    "| Temperatura \t| 21|21|20|19|19|19|18|17|18|19|21|23|23|\n",
    "\n",
    "determinar las constantes $c_1$,$c_2$ y $c_3$ de manera que podamos predecir la temperatura a las 20h. "
   ]
  },
  {
   "cell_type": "code",
   "execution_count": null,
   "id": "186343b2",
   "metadata": {},
   "outputs": [],
   "source": []
  }
 ],
 "metadata": {
  "kernelspec": {
   "display_name": "Python 3 (ipykernel)",
   "language": "python",
   "name": "python3"
  },
  "language_info": {
   "codemirror_mode": {
    "name": "ipython",
    "version": 3
   },
   "file_extension": ".py",
   "mimetype": "text/x-python",
   "name": "python",
   "nbconvert_exporter": "python",
   "pygments_lexer": "ipython3",
   "version": "3.9.12"
  }
 },
 "nbformat": 4,
 "nbformat_minor": 5
}
